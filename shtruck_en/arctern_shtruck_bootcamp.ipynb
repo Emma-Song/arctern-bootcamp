{
 "cells": [
  {
   "cell_type": "markdown",
   "metadata": {},
   "source": [
    "This tutorial will guide you through analyzing Shanghai Truck dataset with Arctern for massive Geospatial data processing and with keplergl for data visualization.\n",
    "\n",
    "\n",
    "Load Shanghai truck trajectory data, the original data has a total of 8 columns, here only read the 4 columns required for analysis: plate number, time, latitude and longitude."
   ]
  },
  {
   "cell_type": "code",
   "execution_count": 1,
   "metadata": {},
   "outputs": [],
   "source": [
    "import pandas as pd\n",
    "import arctern\n",
    "from arctern import GeoSeries\n",
    "\n",
    "sh_columns=[\n",
    "    (\"plate_number\",\"string\"),\n",
    "    (\"pos_time\",\"string\"),\n",
    "    (\"pos_longitude\",\"double\"),\n",
    "    (\"pos_latitude\",\"double\"),\n",
    "    (\"pos_direction0\",\"double\"),\n",
    "    (\"pos_direction1\",\"double\"),\n",
    "    (\"pos_direction2\",\"double\"),\n",
    "    (\"pos_direction3\",\"double\")\n",
    "]\n",
    "\n",
    "sh_select_columns={\n",
    "                   \"plate_number\",\n",
    "                   \"pos_time\",\n",
    "                   \"pos_longitude\",\n",
    "                   \"pos_latitude\"\n",
    "                  }\n",
    "\n",
    "sh_schema={}\n",
    "sh_use_cols=[]\n",
    "sh_names=[]\n",
    "for idx in range(len(sh_columns)):\n",
    "    if sh_columns[idx][0] in sh_select_columns:\n",
    "        sh_schema[sh_columns[idx][0]] = sh_columns[idx][1]\n",
    "        sh_use_cols.append(idx)\n",
    "        sh_names.append(sh_columns[idx][0])\n",
    "            \n",
    "sh_df = pd.read_csv(\"/tmp/20181016.txt\",\n",
    "                    usecols=sh_use_cols,\n",
    "                    names=sh_names,\n",
    "                    dtype=sh_schema,\n",
    "                    header=None,\n",
    "                    delimiter=\"\\t\",\n",
    "                    date_parser=pd.to_datetime,\n",
    "                    parse_dates=[\"pos_time\"])"
   ]
  },
  {
   "cell_type": "markdown",
   "metadata": {},
   "source": [
    "According to the latitude and longitude, construct position information:"
   ]
  },
  {
   "cell_type": "code",
   "execution_count": 2,
   "metadata": {},
   "outputs": [
    {
     "data": {
      "text/html": [
       "<div>\n",
       "<style scoped>\n",
       "    .dataframe tbody tr th:only-of-type {\n",
       "        vertical-align: middle;\n",
       "    }\n",
       "\n",
       "    .dataframe tbody tr th {\n",
       "        vertical-align: top;\n",
       "    }\n",
       "\n",
       "    .dataframe thead th {\n",
       "        text-align: right;\n",
       "    }\n",
       "</style>\n",
       "<table border=\"1\" class=\"dataframe\">\n",
       "  <thead>\n",
       "    <tr style=\"text-align: right;\">\n",
       "      <th></th>\n",
       "      <th>plate_number</th>\n",
       "      <th>pos_time</th>\n",
       "      <th>pos_longitude</th>\n",
       "      <th>pos_latitude</th>\n",
       "      <th>pos_point</th>\n",
       "    </tr>\n",
       "  </thead>\n",
       "  <tbody>\n",
       "    <tr>\n",
       "      <th>0</th>\n",
       "      <td>沪DK7362</td>\n",
       "      <td>2018-10-16 00:00:00</td>\n",
       "      <td>121.273108</td>\n",
       "      <td>30.989863</td>\n",
       "      <td>POINT (121.273108 30.989863)</td>\n",
       "    </tr>\n",
       "    <tr>\n",
       "      <th>1</th>\n",
       "      <td>沪DT0830</td>\n",
       "      <td>2018-10-16 00:00:00</td>\n",
       "      <td>121.471555</td>\n",
       "      <td>31.121763</td>\n",
       "      <td>POINT (121.471555 31.121763)</td>\n",
       "    </tr>\n",
       "    <tr>\n",
       "      <th>2</th>\n",
       "      <td>沪EP2723</td>\n",
       "      <td>2018-10-16 00:00:00</td>\n",
       "      <td>121.717205</td>\n",
       "      <td>31.380190</td>\n",
       "      <td>POINT (121.717205 31.38019)</td>\n",
       "    </tr>\n",
       "    <tr>\n",
       "      <th>3</th>\n",
       "      <td>沪DH9100</td>\n",
       "      <td>2018-10-16 00:00:00</td>\n",
       "      <td>121.476368</td>\n",
       "      <td>31.197768</td>\n",
       "      <td>POINT (121.476368 31.197768)</td>\n",
       "    </tr>\n",
       "    <tr>\n",
       "      <th>4</th>\n",
       "      <td>沪DP8608</td>\n",
       "      <td>2018-10-16 00:00:00</td>\n",
       "      <td>121.826568</td>\n",
       "      <td>31.096545</td>\n",
       "      <td>POINT (121.826568 31.096545)</td>\n",
       "    </tr>\n",
       "    <tr>\n",
       "      <th>...</th>\n",
       "      <td>...</td>\n",
       "      <td>...</td>\n",
       "      <td>...</td>\n",
       "      <td>...</td>\n",
       "      <td>...</td>\n",
       "    </tr>\n",
       "    <tr>\n",
       "      <th>2076589</th>\n",
       "      <td>沪EG9666</td>\n",
       "      <td>2018-10-16 23:59:31</td>\n",
       "      <td>121.753138</td>\n",
       "      <td>31.356040</td>\n",
       "      <td>POINT (121.753138 31.35604)</td>\n",
       "    </tr>\n",
       "    <tr>\n",
       "      <th>2076590</th>\n",
       "      <td>沪DP8746</td>\n",
       "      <td>2018-10-16 23:59:35</td>\n",
       "      <td>121.447145</td>\n",
       "      <td>31.125255</td>\n",
       "      <td>POINT (121.447145 31.125255)</td>\n",
       "    </tr>\n",
       "    <tr>\n",
       "      <th>2076591</th>\n",
       "      <td>沪DP8746</td>\n",
       "      <td>2018-10-16 23:59:41</td>\n",
       "      <td>121.448203</td>\n",
       "      <td>31.125408</td>\n",
       "      <td>POINT (121.448203 31.125408)</td>\n",
       "    </tr>\n",
       "    <tr>\n",
       "      <th>2076592</th>\n",
       "      <td>沪DP8746</td>\n",
       "      <td>2018-10-16 23:59:48</td>\n",
       "      <td>121.449426</td>\n",
       "      <td>31.125510</td>\n",
       "      <td>POINT (121.449426 31.12551)</td>\n",
       "    </tr>\n",
       "    <tr>\n",
       "      <th>2076593</th>\n",
       "      <td>沪DE6779</td>\n",
       "      <td>2018-10-16 23:59:54</td>\n",
       "      <td>121.880973</td>\n",
       "      <td>31.082136</td>\n",
       "      <td>POINT (121.880973 31.082136)</td>\n",
       "    </tr>\n",
       "  </tbody>\n",
       "</table>\n",
       "<p>2076594 rows × 5 columns</p>\n",
       "</div>"
      ],
      "text/plain": [
       "        plate_number            pos_time  pos_longitude  pos_latitude  \\\n",
       "0            沪DK7362 2018-10-16 00:00:00     121.273108     30.989863   \n",
       "1            沪DT0830 2018-10-16 00:00:00     121.471555     31.121763   \n",
       "2            沪EP2723 2018-10-16 00:00:00     121.717205     31.380190   \n",
       "3            沪DH9100 2018-10-16 00:00:00     121.476368     31.197768   \n",
       "4            沪DP8608 2018-10-16 00:00:00     121.826568     31.096545   \n",
       "...              ...                 ...            ...           ...   \n",
       "2076589      沪EG9666 2018-10-16 23:59:31     121.753138     31.356040   \n",
       "2076590      沪DP8746 2018-10-16 23:59:35     121.447145     31.125255   \n",
       "2076591      沪DP8746 2018-10-16 23:59:41     121.448203     31.125408   \n",
       "2076592      沪DP8746 2018-10-16 23:59:48     121.449426     31.125510   \n",
       "2076593      沪DE6779 2018-10-16 23:59:54     121.880973     31.082136   \n",
       "\n",
       "                            pos_point  \n",
       "0        POINT (121.273108 30.989863)  \n",
       "1        POINT (121.471555 31.121763)  \n",
       "2         POINT (121.717205 31.38019)  \n",
       "3        POINT (121.476368 31.197768)  \n",
       "4        POINT (121.826568 31.096545)  \n",
       "...                               ...  \n",
       "2076589   POINT (121.753138 31.35604)  \n",
       "2076590  POINT (121.447145 31.125255)  \n",
       "2076591  POINT (121.448203 31.125408)  \n",
       "2076592   POINT (121.449426 31.12551)  \n",
       "2076593  POINT (121.880973 31.082136)  \n",
       "\n",
       "[2076594 rows x 5 columns]"
      ]
     },
     "execution_count": 2,
     "metadata": {},
     "output_type": "execute_result"
    }
   ],
   "source": [
    "sh_df[\"pos_point\"]=GeoSeries.point(sh_df.pos_longitude,sh_df.pos_latitude)\n",
    "sh_df"
   ]
  },
  {
   "cell_type": "markdown",
   "metadata": {},
   "source": [
    "We can restore the running track of a truck. First, we select a plate numbers of truck and filter all the data:"
   ]
  },
  {
   "cell_type": "code",
   "execution_count": 3,
   "metadata": {},
   "outputs": [
    {
     "name": "stdout",
     "output_type": "stream",
     "text": [
      "沪DK7362\n"
     ]
    }
   ],
   "source": [
    "one_trunck_plate_number=sh_df.plate_number[0]\n",
    "print(one_trunck_plate_number)\n",
    "one_truck_df = sh_df[sh_df.plate_number==one_trunck_plate_number]"
   ]
  },
  {
   "cell_type": "markdown",
   "metadata": {},
   "source": [
    "Draw all the track points of this car on the map:"
   ]
  },
  {
   "cell_type": "code",
   "execution_count": 4,
   "metadata": {
    "scrolled": false
   },
   "outputs": [
    {
     "name": "stdout",
     "output_type": "stream",
     "text": [
      "User Guide: https://docs.kepler.gl/docs/keplergl-jupyter\n"
     ]
    },
    {
     "data": {
      "application/vnd.jupyter.widget-view+json": {
       "model_id": "119ca667318049afa963bd71f5e0cbaf",
       "version_major": 2,
       "version_minor": 0
      },
      "text/plain": [
       "KeplerGl(data={'car_pos':                               car_pos\n",
       "0        POINT (121.273108 30.989863)\n",
       "4922    …"
      ]
     },
     "metadata": {},
     "output_type": "display_data"
    }
   ],
   "source": [
    "from keplergl import KeplerGl\n",
    "KeplerGl(data={\"car_pos\": pd.DataFrame(data={'car_pos':one_truck_df.pos_point.to_wkt()})})"
   ]
  },
  {
   "cell_type": "markdown",
   "metadata": {},
   "source": [
    "Next, we will look at the running track of the above truck according to the road network information of Shanghai, and first load the road network information:"
   ]
  },
  {
   "cell_type": "code",
   "execution_count": 5,
   "metadata": {},
   "outputs": [
    {
     "data": {
      "text/plain": [
       "0        LINESTRING (121.6358731 31.221484,121.6359771 ...\n",
       "1        LINESTRING (121.6362516 31.2205594,121.6360422...\n",
       "2        LINESTRING (121.6372043 31.220911,121.6369344 ...\n",
       "3        LINESTRING (121.4637777 31.2314411,121.4637564...\n",
       "4        LINESTRING (121.4628334 31.2311683,121.4627892...\n",
       "                               ...                        \n",
       "74688    LINESTRING (121.2544395 31.0235354,121.2550238...\n",
       "74689    LINESTRING (121.6372338 31.2208457,121.6362516...\n",
       "74690    LINESTRING (121.6372338 31.2208457,121.6373315...\n",
       "74691    LINESTRING (121.3657763 31.085248,121.3656812 ...\n",
       "74692    LINESTRING (121.6372043 31.220911,121.6372338 ...\n",
       "Name: roads, Length: 74693, dtype: GeoDtype"
      ]
     },
     "execution_count": 5,
     "metadata": {},
     "output_type": "execute_result"
    }
   ],
   "source": [
    "sh_roads=pd.read_csv(\"/tmp/sh_roads.csv\", \n",
    "                     dtype={\"roads\":\"string\"},\n",
    "                     usecols=[0],\n",
    "                     names=[\"roads\"],\n",
    "                     header=None,\n",
    "                     delimiter='|')\n",
    "sh_roads=GeoSeries(sh_roads.roads)\n",
    "sh_roads"
   ]
  },
  {
   "cell_type": "markdown",
   "metadata": {},
   "source": [
    "Draw the above track location and road network information on the map:"
   ]
  },
  {
   "cell_type": "code",
   "execution_count": 6,
   "metadata": {},
   "outputs": [
    {
     "name": "stdout",
     "output_type": "stream",
     "text": [
      "User Guide: https://docs.kepler.gl/docs/keplergl-jupyter\n"
     ]
    },
    {
     "data": {
      "application/vnd.jupyter.widget-view+json": {
       "model_id": "a0f3cc63bf794a08965edf43b06aea67",
       "version_major": 2,
       "version_minor": 0
      },
      "text/plain": [
       "KeplerGl(data={'car_pos':                               car_pos\n",
       "0        POINT (121.273108 30.989863)\n",
       "4922    …"
      ]
     },
     "metadata": {},
     "output_type": "display_data"
    }
   ],
   "source": [
    "one_truck_roads=KeplerGl(data={\"car_pos\": pd.DataFrame(data={'car_pos':one_truck_df.pos_point.to_wkt()})})\n",
    "one_truck_roads.add_data(data=pd.DataFrame(data={'sh_roads':sh_roads.to_wkt()}),name=\"sh_roads\")\n",
    "one_truck_roads"
   ]
  },
  {
   "cell_type": "markdown",
   "metadata": {},
   "source": [
    "With the visualized results on the map, by zooming it can be found in the track location of  that struck is not on the road, and these noisy data need to be cleared."
   ]
  },
  {
   "cell_type": "markdown",
   "metadata": {},
   "source": [
    "We think that the track location that are not on the road are noisy information, and these track points must be bound to the closest road:"
   ]
  },
  {
   "cell_type": "code",
   "execution_count": 7,
   "metadata": {},
   "outputs": [
    {
     "data": {
      "text/plain": [
       "0          POINT (121.273065837839 30.9898629672054)\n",
       "1          POINT (121.471521117758 31.1218966267949)\n",
       "2          POINT (121.717183265368 31.3801593122801)\n",
       "3           POINT (121.47636780833 31.1977688430427)\n",
       "4          POINT (121.826533061028 31.0965194009541)\n",
       "                             ...                    \n",
       "2076589    POINT (121.753124012736 31.3560208068604)\n",
       "2076590     POINT (121.44712530551 31.1255173541719)\n",
       "2076591    POINT (121.448188797914 31.1255971887735)\n",
       "2076592    POINT (121.449412558681 31.1256890544539)\n",
       "2076593    POINT (121.880966206794 31.0821528456654)\n",
       "Length: 1807018, dtype: GeoDtype"
      ]
     },
     "execution_count": 7,
     "metadata": {},
     "output_type": "execute_result"
    }
   ],
   "source": [
    "is_near_road=arctern.near_road(sh_roads,sh_df.pos_point)\n",
    "sh_near_road_df=sh_df[is_near_road]\n",
    "on_road=arctern.nearest_location_on_road(sh_roads, sh_near_road_df.pos_point)\n",
    "on_road=GeoSeries(on_road)\n",
    "on_road"
   ]
  },
  {
   "cell_type": "markdown",
   "metadata": {},
   "source": [
    "Bind the truck location to the road, and reconstruct the  `DataFrame`："
   ]
  },
  {
   "cell_type": "code",
   "execution_count": 8,
   "metadata": {},
   "outputs": [
    {
     "data": {
      "text/html": [
       "<div>\n",
       "<style scoped>\n",
       "    .dataframe tbody tr th:only-of-type {\n",
       "        vertical-align: middle;\n",
       "    }\n",
       "\n",
       "    .dataframe tbody tr th {\n",
       "        vertical-align: top;\n",
       "    }\n",
       "\n",
       "    .dataframe thead th {\n",
       "        text-align: right;\n",
       "    }\n",
       "</style>\n",
       "<table border=\"1\" class=\"dataframe\">\n",
       "  <thead>\n",
       "    <tr style=\"text-align: right;\">\n",
       "      <th></th>\n",
       "      <th>plate_number</th>\n",
       "      <th>pos_time</th>\n",
       "      <th>on_road</th>\n",
       "    </tr>\n",
       "  </thead>\n",
       "  <tbody>\n",
       "    <tr>\n",
       "      <th>0</th>\n",
       "      <td>沪DK7362</td>\n",
       "      <td>2018-10-16 00:00:00</td>\n",
       "      <td>POINT (121.273065837839 30.9898629672054)</td>\n",
       "    </tr>\n",
       "    <tr>\n",
       "      <th>1</th>\n",
       "      <td>沪DT0830</td>\n",
       "      <td>2018-10-16 00:00:00</td>\n",
       "      <td>POINT (121.471521117758 31.1218966267949)</td>\n",
       "    </tr>\n",
       "    <tr>\n",
       "      <th>2</th>\n",
       "      <td>沪EP2723</td>\n",
       "      <td>2018-10-16 00:00:00</td>\n",
       "      <td>POINT (121.717183265368 31.3801593122801)</td>\n",
       "    </tr>\n",
       "    <tr>\n",
       "      <th>3</th>\n",
       "      <td>沪DH9100</td>\n",
       "      <td>2018-10-16 00:00:00</td>\n",
       "      <td>POINT (121.47636780833 31.1977688430427)</td>\n",
       "    </tr>\n",
       "    <tr>\n",
       "      <th>4</th>\n",
       "      <td>沪DP8608</td>\n",
       "      <td>2018-10-16 00:00:00</td>\n",
       "      <td>POINT (121.826533061028 31.0965194009541)</td>\n",
       "    </tr>\n",
       "    <tr>\n",
       "      <th>...</th>\n",
       "      <td>...</td>\n",
       "      <td>...</td>\n",
       "      <td>...</td>\n",
       "    </tr>\n",
       "    <tr>\n",
       "      <th>2076589</th>\n",
       "      <td>沪EG9666</td>\n",
       "      <td>2018-10-16 23:59:31</td>\n",
       "      <td>POINT (121.753124012736 31.3560208068604)</td>\n",
       "    </tr>\n",
       "    <tr>\n",
       "      <th>2076590</th>\n",
       "      <td>沪DP8746</td>\n",
       "      <td>2018-10-16 23:59:35</td>\n",
       "      <td>POINT (121.44712530551 31.1255173541719)</td>\n",
       "    </tr>\n",
       "    <tr>\n",
       "      <th>2076591</th>\n",
       "      <td>沪DP8746</td>\n",
       "      <td>2018-10-16 23:59:41</td>\n",
       "      <td>POINT (121.448188797914 31.1255971887735)</td>\n",
       "    </tr>\n",
       "    <tr>\n",
       "      <th>2076592</th>\n",
       "      <td>沪DP8746</td>\n",
       "      <td>2018-10-16 23:59:48</td>\n",
       "      <td>POINT (121.449412558681 31.1256890544539)</td>\n",
       "    </tr>\n",
       "    <tr>\n",
       "      <th>2076593</th>\n",
       "      <td>沪DE6779</td>\n",
       "      <td>2018-10-16 23:59:54</td>\n",
       "      <td>POINT (121.880966206794 31.0821528456654)</td>\n",
       "    </tr>\n",
       "  </tbody>\n",
       "</table>\n",
       "<p>1807018 rows × 3 columns</p>\n",
       "</div>"
      ],
      "text/plain": [
       "        plate_number            pos_time  \\\n",
       "0            沪DK7362 2018-10-16 00:00:00   \n",
       "1            沪DT0830 2018-10-16 00:00:00   \n",
       "2            沪EP2723 2018-10-16 00:00:00   \n",
       "3            沪DH9100 2018-10-16 00:00:00   \n",
       "4            沪DP8608 2018-10-16 00:00:00   \n",
       "...              ...                 ...   \n",
       "2076589      沪EG9666 2018-10-16 23:59:31   \n",
       "2076590      沪DP8746 2018-10-16 23:59:35   \n",
       "2076591      沪DP8746 2018-10-16 23:59:41   \n",
       "2076592      沪DP8746 2018-10-16 23:59:48   \n",
       "2076593      沪DE6779 2018-10-16 23:59:54   \n",
       "\n",
       "                                           on_road  \n",
       "0        POINT (121.273065837839 30.9898629672054)  \n",
       "1        POINT (121.471521117758 31.1218966267949)  \n",
       "2        POINT (121.717183265368 31.3801593122801)  \n",
       "3         POINT (121.47636780833 31.1977688430427)  \n",
       "4        POINT (121.826533061028 31.0965194009541)  \n",
       "...                                            ...  \n",
       "2076589  POINT (121.753124012736 31.3560208068604)  \n",
       "2076590   POINT (121.44712530551 31.1255173541719)  \n",
       "2076591  POINT (121.448188797914 31.1255971887735)  \n",
       "2076592  POINT (121.449412558681 31.1256890544539)  \n",
       "2076593  POINT (121.880966206794 31.0821528456654)  \n",
       "\n",
       "[1807018 rows x 3 columns]"
      ]
     },
     "execution_count": 8,
     "metadata": {},
     "output_type": "execute_result"
    }
   ],
   "source": [
    "sh_on_road_df=pd.DataFrame(data={\"plate_number\":sh_near_road_df.plate_number,\n",
    "                                 \"pos_time\":sh_near_road_df.pos_time,\n",
    "                                 \"on_road\":on_road\n",
    "                                })\n",
    "sh_on_road_df"
   ]
  },
  {
   "cell_type": "markdown",
   "metadata": {},
   "source": [
    "Draw the track of the truck and the road network of Shanghai again:"
   ]
  },
  {
   "cell_type": "code",
   "execution_count": 9,
   "metadata": {
    "scrolled": true
   },
   "outputs": [
    {
     "name": "stdout",
     "output_type": "stream",
     "text": [
      "User Guide: https://docs.kepler.gl/docs/keplergl-jupyter\n"
     ]
    },
    {
     "data": {
      "application/vnd.jupyter.widget-view+json": {
       "model_id": "0e3823ac12154c5ca0364dce86e7b179",
       "version_major": 2,
       "version_minor": 0
      },
      "text/plain": [
       "KeplerGl(data={'car_pos':                                            car_pos\n",
       "0        POINT (121.273065837839 …"
      ]
     },
     "metadata": {},
     "output_type": "display_data"
    }
   ],
   "source": [
    "one_on_road_df=sh_on_road_df[sh_on_road_df.plate_number==one_trunck_plate_number]\n",
    "one_on_roads=KeplerGl(data={\"car_pos\": pd.DataFrame(data={'car_pos':one_on_road_df.on_road.to_wkt()})})\n",
    "one_on_roads.add_data(data=pd.DataFrame(data={'sh_roads':sh_roads.to_wkt()}),name=\"sh_roads\")\n",
    "one_on_roads"
   ]
  },
  {
   "cell_type": "markdown",
   "metadata": {},
   "source": [
    "By zooming, we can see that all the location are on the road."
   ]
  },
  {
   "cell_type": "markdown",
   "metadata": {},
   "source": [
    "We learned that there are 74,693 road network information records in Shanghai, but it is impossible for trucks to cross all roads. We will analyze the roads where trucks travel to see the roads with the highest frequency.\n",
    "\n",
    "First filter out all the roads that the truck passes:"
   ]
  },
  {
   "cell_type": "code",
   "execution_count": 10,
   "metadata": {},
   "outputs": [],
   "source": [
    "all_roads=arctern.nearest_road(sh_roads,sh_on_road_df.on_road)\n",
    "all_roads=GeoSeries(all_roads)\n",
    "road_codes, road_uniques = pd.factorize(all_roads)"
   ]
  },
  {
   "cell_type": "markdown",
   "metadata": {},
   "source": [
    "Show the road data of all passing trucks and the percentage:"
   ]
  },
  {
   "cell_type": "code",
   "execution_count": 11,
   "metadata": {},
   "outputs": [
    {
     "name": "stdout",
     "output_type": "stream",
     "text": [
      "16450\n",
      "22.0234827895519\n"
     ]
    }
   ],
   "source": [
    "print(len(road_uniques))\n",
    "print(len(road_uniques)*100.0/len(sh_roads))"
   ]
  },
  {
   "cell_type": "markdown",
   "metadata": {},
   "source": [
    "Draw all the roads that the truck passes:"
   ]
  },
  {
   "cell_type": "code",
   "execution_count": 12,
   "metadata": {},
   "outputs": [
    {
     "name": "stdout",
     "output_type": "stream",
     "text": [
      "User Guide: https://docs.kepler.gl/docs/keplergl-jupyter\n"
     ]
    },
    {
     "data": {
      "application/vnd.jupyter.widget-view+json": {
       "model_id": "d3635becb3ce44e4b67557c795c77dac",
       "version_major": 2,
       "version_minor": 0
      },
      "text/plain": [
       "KeplerGl(data={'all_roads':                                                all_roads\n",
       "0      LINESTRING (121.27…"
      ]
     },
     "metadata": {},
     "output_type": "display_data"
    }
   ],
   "source": [
    "KeplerGl(data={\"all_roads\": pd.DataFrame(data={'all_roads':GeoSeries(road_uniques).to_wkt()})})"
   ]
  },
  {
   "cell_type": "markdown",
   "metadata": {},
   "source": [
    "It can be seen that for some main roads, each truck will pass, resulting in more truch location on the road, and because this is a main road, the speed of the truck is slow, which further enhances the `GPS` data on the road."
   ]
  },
  {
   "cell_type": "markdown",
   "metadata": {},
   "source": [
    "Next, we will find for the busier road according to the number of truck location on the road.\n",
    "\n",
    "Count the number of truck location on each road, and reconstruct `DataFrame`, we record the num of location point on the road as road weights:"
   ]
  },
  {
   "cell_type": "code",
   "execution_count": 13,
   "metadata": {},
   "outputs": [
    {
     "data": {
      "text/html": [
       "<div>\n",
       "<style scoped>\n",
       "    .dataframe tbody tr th:only-of-type {\n",
       "        vertical-align: middle;\n",
       "    }\n",
       "\n",
       "    .dataframe tbody tr th {\n",
       "        vertical-align: top;\n",
       "    }\n",
       "\n",
       "    .dataframe thead th {\n",
       "        text-align: right;\n",
       "    }\n",
       "</style>\n",
       "<table border=\"1\" class=\"dataframe\">\n",
       "  <thead>\n",
       "    <tr style=\"text-align: right;\">\n",
       "      <th></th>\n",
       "      <th>on_road</th>\n",
       "      <th>weight_value</th>\n",
       "    </tr>\n",
       "  </thead>\n",
       "  <tbody>\n",
       "    <tr>\n",
       "      <th>0</th>\n",
       "      <td>LINESTRING (121.2730666 30.9888831,121.2730596...</td>\n",
       "      <td>1646</td>\n",
       "    </tr>\n",
       "    <tr>\n",
       "      <th>1</th>\n",
       "      <td>LINESTRING (121.4677565 31.1198416,121.4678423...</td>\n",
       "      <td>1579</td>\n",
       "    </tr>\n",
       "    <tr>\n",
       "      <th>2</th>\n",
       "      <td>LINESTRING (121.7202751 31.3780202,121.7197339...</td>\n",
       "      <td>141</td>\n",
       "    </tr>\n",
       "    <tr>\n",
       "      <th>3</th>\n",
       "      <td>LINESTRING (121.477849 31.1981056,121.4742212 ...</td>\n",
       "      <td>83</td>\n",
       "    </tr>\n",
       "    <tr>\n",
       "      <th>4</th>\n",
       "      <td>LINESTRING (121.8374393 31.0816313,121.8345587...</td>\n",
       "      <td>1268</td>\n",
       "    </tr>\n",
       "    <tr>\n",
       "      <th>...</th>\n",
       "      <td>...</td>\n",
       "      <td>...</td>\n",
       "    </tr>\n",
       "    <tr>\n",
       "      <th>16445</th>\n",
       "      <td>LINESTRING (121.4278848 31.2389835,121.4280869...</td>\n",
       "      <td>3</td>\n",
       "    </tr>\n",
       "    <tr>\n",
       "      <th>16446</th>\n",
       "      <td>LINESTRING (121.431042 31.2403309,121.4307167 ...</td>\n",
       "      <td>1</td>\n",
       "    </tr>\n",
       "    <tr>\n",
       "      <th>16447</th>\n",
       "      <td>LINESTRING (121.6378175 31.2374256,121.6373658...</td>\n",
       "      <td>1</td>\n",
       "    </tr>\n",
       "    <tr>\n",
       "      <th>16448</th>\n",
       "      <td>LINESTRING (121.432118 31.2416392,121.4314564 ...</td>\n",
       "      <td>1</td>\n",
       "    </tr>\n",
       "    <tr>\n",
       "      <th>16449</th>\n",
       "      <td>LINESTRING (121.4444113 30.9236353,121.443815 ...</td>\n",
       "      <td>2</td>\n",
       "    </tr>\n",
       "  </tbody>\n",
       "</table>\n",
       "<p>16450 rows × 2 columns</p>\n",
       "</div>"
      ],
      "text/plain": [
       "                                                 on_road  weight_value\n",
       "0      LINESTRING (121.2730666 30.9888831,121.2730596...          1646\n",
       "1      LINESTRING (121.4677565 31.1198416,121.4678423...          1579\n",
       "2      LINESTRING (121.7202751 31.3780202,121.7197339...           141\n",
       "3      LINESTRING (121.477849 31.1981056,121.4742212 ...            83\n",
       "4      LINESTRING (121.8374393 31.0816313,121.8345587...          1268\n",
       "...                                                  ...           ...\n",
       "16445  LINESTRING (121.4278848 31.2389835,121.4280869...             3\n",
       "16446  LINESTRING (121.431042 31.2403309,121.4307167 ...             1\n",
       "16447  LINESTRING (121.6378175 31.2374256,121.6373658...             1\n",
       "16448  LINESTRING (121.432118 31.2416392,121.4314564 ...             1\n",
       "16449  LINESTRING (121.4444113 30.9236353,121.443815 ...             2\n",
       "\n",
       "[16450 rows x 2 columns]"
      ]
     },
     "execution_count": 13,
     "metadata": {},
     "output_type": "execute_result"
    }
   ],
   "source": [
    "roads_codes_series = pd.Series(road_codes)\n",
    "roads_codes_series = roads_codes_series.value_counts()\n",
    "roads_codes_series = roads_codes_series.sort_index()\n",
    "\n",
    "sh_road_weight = pd.DataFrame(data={\"on_road\":GeoSeries(road_uniques),\n",
    "                                    \"weight_value\":roads_codes_series\n",
    "                                   })\n",
    "\n",
    "sh_road_weight"
   ]
  },
  {
   "cell_type": "markdown",
   "metadata": {},
   "source": [
    "Show the road weights:"
   ]
  },
  {
   "cell_type": "code",
   "execution_count": 14,
   "metadata": {},
   "outputs": [
    {
     "data": {
      "text/plain": [
       "count    16450.000000\n",
       "mean       109.849119\n",
       "std        802.067993\n",
       "min          1.000000\n",
       "25%          2.000000\n",
       "50%          5.000000\n",
       "75%         22.000000\n",
       "max      28144.000000\n",
       "Name: weight_value, dtype: float64"
      ]
     },
     "execution_count": 14,
     "metadata": {},
     "output_type": "execute_result"
    }
   ],
   "source": [
    "sh_road_weight.weight_value.describe()"
   ]
  },
  {
   "cell_type": "markdown",
   "metadata": {},
   "source": [
    "It can be found that most roads are not busy, but there are also some particularly busy roads.\n",
    "\n",
    "Plot `weight_value` into a histogram, it can further confirm the previous conclusion:"
   ]
  },
  {
   "cell_type": "code",
   "execution_count": 15,
   "metadata": {},
   "outputs": [
    {
     "data": {
      "image/png": "[encoded data removed]",
      "text/plain": [
       "<Figure size 432x288 with 1 Axes>"
      ]
     },
     "metadata": {
      "needs_background": "light"
     },
     "output_type": "display_data"
    }
   ],
   "source": [
    "import matplotlib.pyplot as plt\n",
    "plt.bar(sh_road_weight.index,sh_road_weight.weight_value)\n",
    "plt.show()"
   ]
  },
  {
   "cell_type": "markdown",
   "metadata": {},
   "source": [
    "Sort all roads according to road weights:"
   ]
  },
  {
   "cell_type": "code",
   "execution_count": 16,
   "metadata": {},
   "outputs": [
    {
     "data": {
      "text/html": [
       "<div>\n",
       "<style scoped>\n",
       "    .dataframe tbody tr th:only-of-type {\n",
       "        vertical-align: middle;\n",
       "    }\n",
       "\n",
       "    .dataframe tbody tr th {\n",
       "        vertical-align: top;\n",
       "    }\n",
       "\n",
       "    .dataframe thead th {\n",
       "        text-align: right;\n",
       "    }\n",
       "</style>\n",
       "<table border=\"1\" class=\"dataframe\">\n",
       "  <thead>\n",
       "    <tr style=\"text-align: right;\">\n",
       "      <th></th>\n",
       "      <th>on_road</th>\n",
       "      <th>weight_value</th>\n",
       "    </tr>\n",
       "  </thead>\n",
       "  <tbody>\n",
       "    <tr>\n",
       "      <th>102</th>\n",
       "      <td>LINESTRING (121.4248121 31.4032657,121.4265065...</td>\n",
       "      <td>28144</td>\n",
       "    </tr>\n",
       "    <tr>\n",
       "      <th>23</th>\n",
       "      <td>LINESTRING (121.473513 31.3702961,121.4736103 ...</td>\n",
       "      <td>24364</td>\n",
       "    </tr>\n",
       "    <tr>\n",
       "      <th>9</th>\n",
       "      <td>LINESTRING (121.6349225 31.14309,121.6348039 3...</td>\n",
       "      <td>21448</td>\n",
       "    </tr>\n",
       "    <tr>\n",
       "      <th>43</th>\n",
       "      <td>LINESTRING (121.2749664 31.0244814,121.2722674...</td>\n",
       "      <td>20599</td>\n",
       "    </tr>\n",
       "    <tr>\n",
       "      <th>89</th>\n",
       "      <td>LINESTRING (121.3814009 31.391344,121.3820681 ...</td>\n",
       "      <td>20463</td>\n",
       "    </tr>\n",
       "    <tr>\n",
       "      <th>...</th>\n",
       "      <td>...</td>\n",
       "      <td>...</td>\n",
       "    </tr>\n",
       "    <tr>\n",
       "      <th>13661</th>\n",
       "      <td>LINESTRING (121.3757469 31.0789625,121.3756868...</td>\n",
       "      <td>1</td>\n",
       "    </tr>\n",
       "    <tr>\n",
       "      <th>7980</th>\n",
       "      <td>LINESTRING (121.3675949 31.2531523,121.3677313...</td>\n",
       "      <td>1</td>\n",
       "    </tr>\n",
       "    <tr>\n",
       "      <th>11360</th>\n",
       "      <td>LINESTRING (121.6867871 31.104265,121.6815152 ...</td>\n",
       "      <td>1</td>\n",
       "    </tr>\n",
       "    <tr>\n",
       "      <th>13664</th>\n",
       "      <td>LINESTRING (121.5174295 31.2760579,121.5171332...</td>\n",
       "      <td>1</td>\n",
       "    </tr>\n",
       "    <tr>\n",
       "      <th>14269</th>\n",
       "      <td>LINESTRING (121.3291131 31.7212865,121.3269348...</td>\n",
       "      <td>1</td>\n",
       "    </tr>\n",
       "  </tbody>\n",
       "</table>\n",
       "<p>16450 rows × 2 columns</p>\n",
       "</div>"
      ],
      "text/plain": [
       "                                                 on_road  weight_value\n",
       "102    LINESTRING (121.4248121 31.4032657,121.4265065...         28144\n",
       "23     LINESTRING (121.473513 31.3702961,121.4736103 ...         24364\n",
       "9      LINESTRING (121.6349225 31.14309,121.6348039 3...         21448\n",
       "43     LINESTRING (121.2749664 31.0244814,121.2722674...         20599\n",
       "89     LINESTRING (121.3814009 31.391344,121.3820681 ...         20463\n",
       "...                                                  ...           ...\n",
       "13661  LINESTRING (121.3757469 31.0789625,121.3756868...             1\n",
       "7980   LINESTRING (121.3675949 31.2531523,121.3677313...             1\n",
       "11360  LINESTRING (121.6867871 31.104265,121.6815152 ...             1\n",
       "13664  LINESTRING (121.5174295 31.2760579,121.5171332...             1\n",
       "14269  LINESTRING (121.3291131 31.7212865,121.3269348...             1\n",
       "\n",
       "[16450 rows x 2 columns]"
      ]
     },
     "execution_count": 16,
     "metadata": {},
     "output_type": "execute_result"
    }
   ],
   "source": [
    "sh_sorted_road=sh_road_weight.sort_values(by=['weight_value'],ascending=False)\n",
    "sh_sorted_road"
   ]
  },
  {
   "cell_type": "markdown",
   "metadata": {},
   "source": [
    "Select the top 100 busiest roads:"
   ]
  },
  {
   "cell_type": "code",
   "execution_count": 17,
   "metadata": {},
   "outputs": [
    {
     "data": {
      "text/html": [
       "<div>\n",
       "<style scoped>\n",
       "    .dataframe tbody tr th:only-of-type {\n",
       "        vertical-align: middle;\n",
       "    }\n",
       "\n",
       "    .dataframe tbody tr th {\n",
       "        vertical-align: top;\n",
       "    }\n",
       "\n",
       "    .dataframe thead th {\n",
       "        text-align: right;\n",
       "    }\n",
       "</style>\n",
       "<table border=\"1\" class=\"dataframe\">\n",
       "  <thead>\n",
       "    <tr style=\"text-align: right;\">\n",
       "      <th></th>\n",
       "      <th>on_road</th>\n",
       "      <th>weight_value</th>\n",
       "    </tr>\n",
       "  </thead>\n",
       "  <tbody>\n",
       "    <tr>\n",
       "      <th>102</th>\n",
       "      <td>LINESTRING (121.4248121 31.4032657,121.4265065...</td>\n",
       "      <td>28144</td>\n",
       "    </tr>\n",
       "    <tr>\n",
       "      <th>23</th>\n",
       "      <td>LINESTRING (121.473513 31.3702961,121.4736103 ...</td>\n",
       "      <td>24364</td>\n",
       "    </tr>\n",
       "    <tr>\n",
       "      <th>9</th>\n",
       "      <td>LINESTRING (121.6349225 31.14309,121.6348039 3...</td>\n",
       "      <td>21448</td>\n",
       "    </tr>\n",
       "    <tr>\n",
       "      <th>43</th>\n",
       "      <td>LINESTRING (121.2749664 31.0244814,121.2722674...</td>\n",
       "      <td>20599</td>\n",
       "    </tr>\n",
       "    <tr>\n",
       "      <th>89</th>\n",
       "      <td>LINESTRING (121.3814009 31.391344,121.3820681 ...</td>\n",
       "      <td>20463</td>\n",
       "    </tr>\n",
       "    <tr>\n",
       "      <th>...</th>\n",
       "      <td>...</td>\n",
       "      <td>...</td>\n",
       "    </tr>\n",
       "    <tr>\n",
       "      <th>13</th>\n",
       "      <td>LINESTRING (121.4986731 31.2685444,121.4963124...</td>\n",
       "      <td>3668</td>\n",
       "    </tr>\n",
       "    <tr>\n",
       "      <th>566</th>\n",
       "      <td>LINESTRING (121.3656233 31.257495,121.3689789 ...</td>\n",
       "      <td>3655</td>\n",
       "    </tr>\n",
       "    <tr>\n",
       "      <th>291</th>\n",
       "      <td>LINESTRING (121.5675539 31.3573854,121.5650207...</td>\n",
       "      <td>3625</td>\n",
       "    </tr>\n",
       "    <tr>\n",
       "      <th>759</th>\n",
       "      <td>LINESTRING (121.4644001 31.3612873,121.463751 ...</td>\n",
       "      <td>3622</td>\n",
       "    </tr>\n",
       "    <tr>\n",
       "      <th>345</th>\n",
       "      <td>LINESTRING (121.297295 31.1168969,121.2973077 ...</td>\n",
       "      <td>3616</td>\n",
       "    </tr>\n",
       "  </tbody>\n",
       "</table>\n",
       "<p>100 rows × 2 columns</p>\n",
       "</div>"
      ],
      "text/plain": [
       "                                               on_road  weight_value\n",
       "102  LINESTRING (121.4248121 31.4032657,121.4265065...         28144\n",
       "23   LINESTRING (121.473513 31.3702961,121.4736103 ...         24364\n",
       "9    LINESTRING (121.6349225 31.14309,121.6348039 3...         21448\n",
       "43   LINESTRING (121.2749664 31.0244814,121.2722674...         20599\n",
       "89   LINESTRING (121.3814009 31.391344,121.3820681 ...         20463\n",
       "..                                                 ...           ...\n",
       "13   LINESTRING (121.4986731 31.2685444,121.4963124...          3668\n",
       "566  LINESTRING (121.3656233 31.257495,121.3689789 ...          3655\n",
       "291  LINESTRING (121.5675539 31.3573854,121.5650207...          3625\n",
       "759  LINESTRING (121.4644001 31.3612873,121.463751 ...          3622\n",
       "345  LINESTRING (121.297295 31.1168969,121.2973077 ...          3616\n",
       "\n",
       "[100 rows x 2 columns]"
      ]
     },
     "execution_count": 17,
     "metadata": {},
     "output_type": "execute_result"
    }
   ],
   "source": [
    "sh_sorted_road.iloc[0:100]"
   ]
  },
  {
   "cell_type": "markdown",
   "metadata": {},
   "source": [
    "Draw the busiest first 100 roads on the map:"
   ]
  },
  {
   "cell_type": "code",
   "execution_count": 18,
   "metadata": {
    "scrolled": false
   },
   "outputs": [
    {
     "name": "stdout",
     "output_type": "stream",
     "text": [
      "User Guide: https://docs.kepler.gl/docs/keplergl-jupyter\n"
     ]
    },
    {
     "data": {
      "application/vnd.jupyter.widget-view+json": {
       "model_id": "5889d296536449a7ba067127d390ab50",
       "version_major": 2,
       "version_minor": 0
      },
      "text/plain": [
       "KeplerGl(data={'on_roads':                                               on_roads\n",
       "102  LINESTRING (121.4248121…"
      ]
     },
     "metadata": {},
     "output_type": "display_data"
    }
   ],
   "source": [
    "KeplerGl(data={\"on_roads\": pd.DataFrame(data={'on_roads':sh_sorted_road.on_road.iloc[0:100].to_wkt()})})"
   ]
  }
 ],
 "metadata": {
  "kernelspec": {
   "display_name": "Python 3",
   "language": "python",
   "name": "python3"
  },
  "language_info": {
   "codemirror_mode": {
    "name": "ipython",
    "version": 3
   },
   "file_extension": ".py",
   "mimetype": "text/x-python",
   "name": "python",
   "nbconvert_exporter": "python",
   "pygments_lexer": "ipython3",
   "version": "3.7.6"
  }
 },
 "nbformat": 4,
 "nbformat_minor": 4
}
