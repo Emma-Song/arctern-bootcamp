{
 "cells": [
  {
   "cell_type": "markdown",
   "metadata": {},
   "source": [
    "We will introduce how to analyze NYC Taxi dataset with Arctern, and use keplergl to display the data. \n",
    "\n",
    "First we need to load data:"
   ]
  },
  {
   "cell_type": "code",
   "execution_count": 1,
   "metadata": {},
   "outputs": [],
   "source": [
    "import pandas as pd\n",
    "nyc_schame={\n",
    "    \"VendorID\":\"string\",\n",
    "    \"tpep_pickup_datetime\":\"string\",\n",
    "    \"tpep_dropoff_datetime\":\"string\",\n",
    "    \"passenger_count\":\"int64\",\n",
    "    \"trip_distance\":\"double\",\n",
    "    \"pickup_longitude\":\"double\",\n",
    "    \"pickup_latitude\":\"double\",\n",
    "    \"dropoff_longitude\":\"double\",\n",
    "    \"dropoff_latitude\":\"double\",\n",
    "    \"fare_amount\":\"double\",\n",
    "    \"tip_amount\":\"double\",\n",
    "    \"total_amount\":\"double\",\n",
    "    \"buildingid_pickup\":\"int64\",\n",
    "    \"buildingid_dropoff\":\"int64\",\n",
    "    \"buildingtext_pickup\":\"string\",\n",
    "    \"buildingtext_dropoff\":\"string\",\n",
    "}\n",
    "nyc_df=pd.read_csv(\"/tmp/0_2M_nyc_taxi_and_building.csv\",\n",
    "               dtype=nyc_schame,\n",
    "               date_parser=pd.to_datetime,\n",
    "               parse_dates=[\"tpep_pickup_datetime\",\"tpep_dropoff_datetime\"])"
   ]
  },
  {
   "cell_type": "markdown",
   "metadata": {},
   "source": [
    "display the pick-up point:"
   ]
  },
  {
   "cell_type": "code",
   "execution_count": 2,
   "metadata": {},
   "outputs": [
    {
     "name": "stdout",
     "output_type": "stream",
     "text": [
      "User Guide: https://docs.kepler.gl/docs/keplergl-jupyter\n"
     ]
    },
    {
     "data": {
      "application/vnd.jupyter.widget-view+json": {
       "model_id": "a61d47361bdf4fc28245dc81661be546",
       "version_major": 2,
       "version_minor": 0
      },
      "text/plain": [
       "KeplerGl(data={'pickup_points':                        pickup_points\n",
       "0       POINT (-73.993003 40.747594)\n",
       "1   …"
      ]
     },
     "metadata": {},
     "output_type": "display_data"
    }
   ],
   "source": [
    "import arctern\n",
    "from keplergl import KeplerGl\n",
    "\n",
    "pickup_points = arctern.ST_Point(nyc_df.pickup_longitude,nyc_df.pickup_latitude)\n",
    "KeplerGl(data={\"pickup_points\": pd.DataFrame(data={'pickup_points':arctern.ST_AsText(pickup_points)})})"
   ]
  },
  {
   "cell_type": "markdown",
   "metadata": {},
   "source": [
    "The map results support select and drag, we can see it has noisy data, because the pick-up point are painted on the sea. In fact, all the data should be concentrated on land. These noisy data need to clean and filter.\n",
    "\n",
    "In order to correctly analyze the NYC taxi data, we will filter the data according to the topographic map of New York City. The data that is not in the New York City map is regarded as noisy and needed filtered."
   ]
  },
  {
   "cell_type": "markdown",
   "metadata": {},
   "source": [
    "Read the topographic data map of New York City. The topographic data is stored in GeoJSON format. First, use Arctern to load the GeoJSON data:"
   ]
  },
  {
   "cell_type": "code",
   "execution_count": 3,
   "metadata": {},
   "outputs": [
    {
     "data": {
      "text/plain": [
       "0      POLYGON ((933100.91835271 192536.085697202,933...\n",
       "1      MULTIPOLYGON (((1033269.24359129 172126.007812...\n",
       "2      POLYGON ((1026308.76950666 256767.697540373,10...\n",
       "3      POLYGON ((992073.46679686 203714.07598877,9920...\n",
       "4      POLYGON ((935843.310493261 144283.335850656,93...\n",
       "                             ...                        \n",
       "258    POLYGON ((1025414.78196019 270986.139363825,10...\n",
       "259    POLYGON ((1011466.96605045 216463.005203798,10...\n",
       "260    POLYGON ((980555.204311222 196138.486258477,98...\n",
       "261    MULTIPOLYGON (((999804.794550449 224498.527048...\n",
       "262    POLYGON ((997493.322715312 220912.386162326,99...\n",
       "Length: 263, dtype: object"
      ]
     },
     "execution_count": 3,
     "metadata": {},
     "output_type": "execute_result"
    }
   ],
   "source": [
    "import shapefile\n",
    "import json\n",
    "# read the topographic data map of New York City\n",
    "nyc_shape = shapefile.Reader(\"/tmp/taxi_zones/taxi_zones.shp\")\n",
    "nyc_zone=[ shp.shape.__geo_interface__  for shp in nyc_shape.shapeRecords()]\n",
    "nyc_zone=[json.dumps(shp) for shp in nyc_zone]\n",
    "# read the data with Arctern\n",
    "nyc_zone_series=pd.Series(nyc_zone)\n",
    "nyc_zone_arctern=arctern.ST_GeomFromGeoJSON(nyc_zone_series)\n",
    "arctern.ST_AsText(nyc_zone_arctern)"
   ]
  },
  {
   "cell_type": "markdown",
   "metadata": {},
   "source": [
    "Get the coordinate system of the current New York City topographic map, and use Arctern to convert the coordinate system to a latitude and longitude coordinate system, which is \"EPSG: 4326\":"
   ]
  },
  {
   "cell_type": "code",
   "execution_count": 4,
   "metadata": {},
   "outputs": [
    {
     "data": {
      "text/plain": [
       "0      POLYGON ((-74.184453 40.694996,-74.184489 40.6...\n",
       "1      MULTIPOLYGON (((-73.8233759726066 40.638987047...\n",
       "2      POLYGON ((-73.8479261409998 40.871342234,-73.8...\n",
       "3      POLYGON ((-73.9717741096532 40.7258212813371,-...\n",
       "4      POLYGON ((-74.1742173809999 40.5625680859999,-...\n",
       "                             ...                        \n",
       "258    POLYGON ((-73.851071161919 40.910371520111,-73...\n",
       "259    POLYGON ((-73.9017537339999 40.760775475,-73.9...\n",
       "260    POLYGON ((-74.0133261089999 40.7050307879999,-...\n",
       "261    MULTIPOLYGON (((-73.9438325669999 40.782859089...\n",
       "262    POLYGON ((-73.95218622 40.7730198449999,-73.95...\n",
       "Length: 263, dtype: object"
      ]
     },
     "execution_count": 4,
     "metadata": {},
     "output_type": "execute_result"
    }
   ],
   "source": [
    "from sridentify import Sridentify\n",
    "ident = Sridentify()\n",
    "ident.from_file('/tmp/taxi_zones/taxi_zones.prj')\n",
    "src_crs = ident.get_epsg()\n",
    "nyc_arctern_4326 = arctern.ST_Transform(nyc_zone_arctern,f'EPSG:{src_crs}','EPSG:4326')\n",
    "arctern.ST_AsText(nyc_arctern_4326)"
   ]
  },
  {
   "cell_type": "markdown",
   "metadata": {},
   "source": [
    "According to the converted latitude and longitude coordinates, the topographic map of New York City is drawn as follows:"
   ]
  },
  {
   "cell_type": "code",
   "execution_count": 5,
   "metadata": {},
   "outputs": [
    {
     "name": "stdout",
     "output_type": "stream",
     "text": [
      "User Guide: https://docs.kepler.gl/docs/keplergl-jupyter\n"
     ]
    },
    {
     "data": {
      "application/vnd.jupyter.widget-view+json": {
       "model_id": "44fa9f8e3af9435baf71e95d6a31357f",
       "version_major": 2,
       "version_minor": 0
      },
      "text/plain": [
       "KeplerGl(data={'nyc_zones':                                              nyc_zones\n",
       "0    POLYGON ((-74.184453 4…"
      ]
     },
     "metadata": {},
     "output_type": "display_data"
    }
   ],
   "source": [
    "KeplerGl(data={\"nyc_zones\": pd.DataFrame(data={'nyc_zones':arctern.ST_AsText(nyc_arctern_4326)})})"
   ]
  },
  {
   "cell_type": "markdown",
   "metadata": {},
   "source": [
    "In order to analyze the taxi data in the New York City area, according to the topographic map of New York City, we see that the points that are not in the map are noise. In order to filter the noisy data, first we filter the pick-up points based on the skeleton map of New York City:"
   ]
  },
  {
   "cell_type": "code",
   "execution_count": 6,
   "metadata": {},
   "outputs": [],
   "source": [
    "# this step will cost some time\n",
    "index_nyc = arctern.sjoin(pickup_points, nyc_arctern_4326, 'within')\n",
    "is_in_nyc = index_nyc.map(lambda x: x >= 0)\n",
    "pickup_in_nyc = pickup_points[pd.Series(is_in_nyc)]"
   ]
  },
  {
   "cell_type": "markdown",
   "metadata": {},
   "source": [
    "Display the pick-up point after data filtering:"
   ]
  },
  {
   "cell_type": "code",
   "execution_count": 7,
   "metadata": {},
   "outputs": [
    {
     "name": "stdout",
     "output_type": "stream",
     "text": [
      "User Guide: https://docs.kepler.gl/docs/keplergl-jupyter\n"
     ]
    },
    {
     "data": {
      "application/vnd.jupyter.widget-view+json": {
       "model_id": "0cbc51c786f2410791771efe4fd64aba",
       "version_major": 2,
       "version_minor": 0
      },
      "text/plain": [
       "KeplerGl(data={'pickup_points':                        pickup_points\n",
       "0       POINT (-73.993003 40.747594)\n",
       "1   …"
      ]
     },
     "metadata": {},
     "output_type": "display_data"
    }
   ],
   "source": [
    "KeplerGl(data={\"pickup_points\": pd.DataFrame(data={'pickup_points':arctern.ST_AsText(pickup_in_nyc)})})"
   ]
  },
  {
   "cell_type": "markdown",
   "metadata": {},
   "source": [
    "According to the same method, filter the drop-off point:"
   ]
  },
  {
   "cell_type": "code",
   "execution_count": 8,
   "metadata": {},
   "outputs": [
    {
     "name": "stdout",
     "output_type": "stream",
     "text": [
      "User Guide: https://docs.kepler.gl/docs/keplergl-jupyter\n"
     ]
    },
    {
     "data": {
      "application/vnd.jupyter.widget-view+json": {
       "model_id": "1b8b8db22e8b485aa5ac6114c9acfbd6",
       "version_major": 2,
       "version_minor": 0
      },
      "text/plain": [
       "KeplerGl(data={'drop_points':                          drop_points\n",
       "0       POINT (-73.983609 40.760426)\n",
       "1     …"
      ]
     },
     "metadata": {},
     "output_type": "display_data"
    }
   ],
   "source": [
    "# this step will cost some time\n",
    "dropoff_points = arctern.ST_Point(nyc_df.dropoff_longitude,nyc_df.dropoff_latitude)\n",
    "index_nyc = arctern.sjoin(dropoff_points, nyc_arctern_4326, 'within')\n",
    "is_dorpoff_in_nyc = index_nyc.map(lambda x: x >= 0)\n",
    "dropoff_in_nyc=dropoff_points[is_dorpoff_in_nyc]\n",
    "KeplerGl(data={\"drop_points\": pd.DataFrame(data={'drop_points':arctern.ST_AsText(dropoff_in_nyc)})})"
   ]
  },
  {
   "cell_type": "markdown",
   "metadata": {},
   "source": [
    "According to the latitude and longitude data of the pick-up point and the drop-off point, filter all noisy data on the dataset:"
   ]
  },
  {
   "cell_type": "code",
   "execution_count": 9,
   "metadata": {},
   "outputs": [
    {
     "data": {
      "text/plain": [
       "count    195479.000000\n",
       "mean          9.791914\n",
       "std           7.266372\n",
       "min           2.500000\n",
       "25%           5.700000\n",
       "50%           7.700000\n",
       "75%          11.300000\n",
       "max         175.000000\n",
       "Name: fare_amount, dtype: float64"
      ]
     },
     "execution_count": 9,
     "metadata": {},
     "output_type": "execute_result"
    }
   ],
   "source": [
    "is_resonable = [is_dorpoff_in_nyc[idx] & is_in_nyc[idx] for idx in range(0,len(is_in_nyc)) ]\n",
    "in_nyc_df=nyc_df[pd.Series(is_resonable)]\n",
    "in_nyc_df.fare_amount.describe()"
   ]
  },
  {
   "cell_type": "markdown",
   "metadata": {},
   "source": [
    "We extract data with fees greater than $50 according to the transaction amount, and plot taxi pick-up and drop-off points:"
   ]
  },
  {
   "cell_type": "code",
   "execution_count": 10,
   "metadata": {},
   "outputs": [
    {
     "name": "stdout",
     "output_type": "stream",
     "text": [
      "User Guide: https://docs.kepler.gl/docs/keplergl-jupyter\n"
     ]
    },
    {
     "data": {
      "application/vnd.jupyter.widget-view+json": {
       "model_id": "baa1027af5934e7085516e5e95e3794c",
       "version_major": 2,
       "version_minor": 0
      },
      "text/plain": [
       "KeplerGl(data={'pickup':                            pickup\n",
       "0    POINT (-73.983795 40.737956)\n",
       "1    POINT (-73.7…"
      ]
     },
     "metadata": {},
     "output_type": "display_data"
    }
   ],
   "source": [
    "fare_amount_gt_50 = in_nyc_df[in_nyc_df.fare_amount > 50]\n",
    "pickup_50 = arctern.ST_Point(fare_amount_gt_50.pickup_longitude,fare_amount_gt_50.pickup_latitude)\n",
    "dropoff_50 = arctern.ST_Point(fare_amount_gt_50.dropoff_longitude,fare_amount_gt_50.dropoff_latitude)\n",
    "KeplerGl(data={\"pickup\": pd.DataFrame(data={'pickup':arctern.ST_AsText(pickup_50)}),\n",
    "               \"dropoff\":pd.DataFrame(data={'dropoff':arctern.ST_AsText(dropoff_50)})\n",
    "              })"
   ]
  },
  {
   "cell_type": "markdown",
   "metadata": {},
   "source": [
    "We can also calculate the straight-line distance between the pick-up point and the drop-off point:"
   ]
  },
  {
   "cell_type": "code",
   "execution_count": 11,
   "metadata": {},
   "outputs": [
    {
     "data": {
      "text/plain": [
       "count    195479.000000\n",
       "mean       3150.718965\n",
       "std        3321.422772\n",
       "min           0.000000\n",
       "25%        1226.479199\n",
       "50%        2091.979381\n",
       "75%        3751.810025\n",
       "max       35395.487197\n",
       "dtype: float64"
      ]
     },
     "execution_count": 11,
     "metadata": {},
     "output_type": "execute_result"
    }
   ],
   "source": [
    "nyc_distance=arctern.ST_DistanceSphere(arctern.ST_Point(in_nyc_df.pickup_longitude,\n",
    "                                                        in_nyc_df.pickup_latitude),\n",
    "                                       arctern.ST_Point(in_nyc_df.dropoff_longitude,\n",
    "                                                        in_nyc_df.dropoff_latitude))\n",
    "nyc_distance.index=in_nyc_df.index\n",
    "nyc_distance.describe()"
   ]
  },
  {
   "cell_type": "markdown",
   "metadata": {},
   "source": [
    "Get the points with a straight-line distance greater than 20 kilometers, and draw all pick-up and drop-off points with a straight-line distance greater than 20 kilometers:"
   ]
  },
  {
   "cell_type": "code",
   "execution_count": 12,
   "metadata": {},
   "outputs": [
    {
     "name": "stdout",
     "output_type": "stream",
     "text": [
      "User Guide: https://docs.kepler.gl/docs/keplergl-jupyter\n"
     ]
    },
    {
     "data": {
      "application/vnd.jupyter.widget-view+json": {
       "model_id": "030c14a2491f4676bf83838bff0b339b",
       "version_major": 2,
       "version_minor": 0
      },
      "text/plain": [
       "KeplerGl(data={'pickup':                             pickup\n",
       "0     POINT (-73.781487 40.644855)\n",
       "1     POINT (-7…"
      ]
     },
     "metadata": {},
     "output_type": "display_data"
    }
   ],
   "source": [
    "nyc_with_distance=pd.DataFrame({\"pickup_longitude\":in_nyc_df.pickup_longitude,\n",
    "                                \"pickup_latitude\":in_nyc_df.pickup_latitude,\n",
    "                                \"dropoff_longitude\":in_nyc_df.dropoff_longitude,\n",
    "                                \"dropoff_latitude\":in_nyc_df.dropoff_latitude,\n",
    "                                \"sphere_distance\":nyc_distance\n",
    "                               })\n",
    "\n",
    "nyc_dist_gt = nyc_with_distance[nyc_with_distance.sphere_distance > 20e3]\n",
    "pickup_gt = arctern.ST_Point(nyc_dist_gt.pickup_longitude,nyc_dist_gt.pickup_latitude)\n",
    "dropoff_gt = arctern.ST_Point(nyc_dist_gt.dropoff_longitude,nyc_dist_gt.dropoff_latitude)\n",
    "\n",
    "KeplerGl(data={\"pickup\": pd.DataFrame(data={'pickup':arctern.ST_AsText(pickup_gt)}),\n",
    "               \"dropoff\":pd.DataFrame(data={'dropoff':arctern.ST_AsText(dropoff_gt)})\n",
    "              })"
   ]
  },
  {
   "cell_type": "code",
   "execution_count": null,
   "metadata": {},
   "outputs": [],
   "source": []
  }
 ],
 "metadata": {
  "kernelspec": {
   "display_name": "Python 3",
   "language": "python",
   "name": "python3"
  },
  "language_info": {
   "codemirror_mode": {
    "name": "ipython",
    "version": 3
   },
   "file_extension": ".py",
   "mimetype": "text/x-python",
   "name": "python",
   "nbconvert_exporter": "python",
   "pygments_lexer": "ipython3",
   "version": "3.7.6"
  }
 },
 "nbformat": 4,
 "nbformat_minor": 4
}
