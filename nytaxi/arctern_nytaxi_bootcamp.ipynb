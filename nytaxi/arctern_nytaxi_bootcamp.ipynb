{
 "cells": [
  {
   "cell_type": "markdown",
   "metadata": {},
   "source": [
    "本文将介绍如何利用 Arctern 处理大型地理空间数据，并使用 keplergl 进行数据可视化分析纽约市出租车数据集。\n",
    "\n",
    "首先需要加载数据："
   ]
  },
  {
   "cell_type": "code",
   "execution_count": 1,
   "metadata": {},
   "outputs": [],
   "source": [
    "import pandas as pd\n",
    "nyc_schema={\n",
    "    \"VendorID\":\"string\",\n",
    "    \"tpep_pickup_datetime\":\"string\",\n",
    "    \"tpep_dropoff_datetime\":\"string\",\n",
    "    \"passenger_count\":\"int64\",\n",
    "    \"trip_distance\":\"double\",\n",
    "    \"pickup_longitude\":\"double\",\n",
    "    \"pickup_latitude\":\"double\",\n",
    "    \"dropoff_longitude\":\"double\",\n",
    "    \"dropoff_latitude\":\"double\",\n",
    "    \"fare_amount\":\"double\",\n",
    "    \"tip_amount\":\"double\",\n",
    "    \"total_amount\":\"double\",\n",
    "    \"buildingid_pickup\":\"int64\",\n",
    "    \"buildingid_dropoff\":\"int64\",\n",
    "    \"buildingtext_pickup\":\"string\",\n",
    "    \"buildingtext_dropoff\":\"string\",\n",
    "}\n",
    "nyc_df=pd.read_csv(\"/tmp/0_2M_nyc_taxi_and_building.csv\",\n",
    "               dtype=nyc_schema,\n",
    "               date_parser=pd.to_datetime,\n",
    "               parse_dates=[\"tpep_pickup_datetime\",\"tpep_dropoff_datetime\"])"
   ]
  },
  {
   "cell_type": "markdown",
   "metadata": {},
   "source": [
    "展示所有上车点的位置："
   ]
  },
  {
   "cell_type": "code",
   "execution_count": 2,
   "metadata": {},
   "outputs": [
    {
     "name": "stdout",
     "output_type": "stream",
     "text": [
      "User Guide: https://docs.kepler.gl/docs/keplergl-jupyter\n"
     ]
    },
    {
     "data": {
      "application/vnd.jupyter.widget-view+json": {
       "model_id": "9d70be817d52418d8707a87ffe27b97d",
       "version_major": 2,
       "version_minor": 0
      },
      "text/plain": [
       "KeplerGl(data={'pickup_points':                        pickup_points\n",
       "0       POINT (-73.993003 40.747594)\n",
       "1   …"
      ]
     },
     "metadata": {},
     "output_type": "display_data"
    }
   ],
   "source": [
    "import arctern\n",
    "from keplergl import KeplerGl\n",
    "\n",
    "pickup_points = arctern.ST_Point(nyc_df.pickup_longitude,nyc_df.pickup_latitude)\n",
    "KeplerGl(data={\"pickup_points\": pd.DataFrame(data={'pickup_points':arctern.ST_AsText(pickup_points)})})"
   ]
  },
  {
   "cell_type": "markdown",
   "metadata": {},
   "source": [
    "返回的结果在地图上支持交互操作，可以发现输入的出租车数据存有噪点，有些上车点已经到海面上了，实际上所有数据应该都集中在陆地上才是合理的，这些噪点数据就需要我们通过一定的方法进行过滤。\n",
    "\n",
    "为了正确分析纽约市区中的出租车数据，接下来我们会根据纽约市的地形图来过滤数据，即不在纽约市地图中的数据视为噪点数据并进行过滤。"
   ]
  },
  {
   "cell_type": "markdown",
   "metadata": {},
   "source": [
    "首先我们读取纽约市的地形数据图，该地形数据是以 GeoJSON 格式存储的，首先使用 Arctern 解析 GeoJSON 数据："
   ]
  },
  {
   "cell_type": "code",
   "execution_count": 3,
   "metadata": {},
   "outputs": [
    {
     "data": {
      "text/plain": [
       "0    MULTIPOLYGON (((-8226155.13045259 4982269.9492...\n",
       "1    MULTIPOLYGON (((-8243264.85067129 4948597.8364...\n",
       "2    MULTIPOLYGON (((-8222843.67198779 4950893.7925...\n",
       "3    MULTIPOLYGON (((-8219461.92460008 4952778.7319...\n",
       "4    MULTIPOLYGON (((-8238858.86403699 4965915.0243...\n",
       "dtype: object"
      ]
     },
     "execution_count": 3,
     "metadata": {},
     "output_type": "execute_result"
    }
   ],
   "source": [
    "import shapefile\n",
    "import json\n",
    "# 读取纽约市的地形数据图\n",
    "nyc_shape = shapefile.Reader(\"/tmp/taxi_zones/taxi_zones.shp\")\n",
    "nyc_zone=[ shp.shape.__geo_interface__  for shp in nyc_shape.shapeRecords()]\n",
    "nyc_zone=[json.dumps(shp) for shp in nyc_zone]\n",
    "# 使用 Arctern 读取数据\n",
    "nyc_zone_series=pd.Series(nyc_zone)\n",
    "nyc_zone_arctern=arctern.ST_GeomFromGeoJSON(nyc_zone_series)\n",
    "arctern.ST_AsText(nyc_zone_arctern)"
   ]
  },
  {
   "cell_type": "markdown",
   "metadata": {},
   "source": [
    "获得当前纽约市地形数据文件的坐标系，并利用 Arctern 将该坐标系转成经纬度坐标系，即 “EPSG:4326” ："
   ]
  },
  {
   "cell_type": "code",
   "execution_count": 4,
   "metadata": {},
   "outputs": [
    {
     "data": {
      "text/plain": [
       "0    MULTIPOLYGON (((-73.8968088322377 40.795808445...\n",
       "1    MULTIPOLYGON (((-74.0505080640325 40.566422034...\n",
       "2    MULTIPOLYGON (((-73.8670614947212 40.582087976...\n",
       "3    MULTIPOLYGON (((-73.8366827410671 40.594946697...\n",
       "4    MULTIPOLYGON (((-74.0109284126803 40.684491472...\n",
       "dtype: object"
      ]
     },
     "execution_count": 4,
     "metadata": {},
     "output_type": "execute_result"
    }
   ],
   "source": [
    "from sridentify import Sridentify\n",
    "ident = Sridentify()\n",
    "ident.from_file('/tmp/taxi_zones/taxi_zones.prj')\n",
    "src_crs = ident.get_epsg()\n",
    "nyc_arctern_4326 = arctern.ST_Transform(nyc_zone_arctern,f'EPSG:{src_crs}','EPSG:4326')\n",
    "arctern.ST_AsText(nyc_arctern_4326)"
   ]
  },
  {
   "cell_type": "markdown",
   "metadata": {},
   "source": [
    "根据转换后的经纬度坐标，绘制的纽约市地形图："
   ]
  },
  {
   "cell_type": "code",
   "execution_count": 5,
   "metadata": {
    "scrolled": true
   },
   "outputs": [
    {
     "name": "stdout",
     "output_type": "stream",
     "text": [
      "User Guide: https://docs.kepler.gl/docs/keplergl-jupyter\n"
     ]
    },
    {
     "data": {
      "application/vnd.jupyter.widget-view+json": {
       "model_id": "a30b9e82f34d45fab489a623315db069",
       "version_major": 2,
       "version_minor": 0
      },
      "text/plain": [
       "KeplerGl(data={'nyc_zones':                                            nyc_zones\n",
       "0  MULTIPOLYGON (((-73.896808…"
      ]
     },
     "metadata": {},
     "output_type": "display_data"
    }
   ],
   "source": [
    "KeplerGl(data={\"nyc_zones\": pd.DataFrame(data={'nyc_zones':arctern.ST_AsText(nyc_arctern_4326)})})"
   ]
  },
  {
   "cell_type": "markdown",
   "metadata": {},
   "source": [
    "我们认为不在纽约市论库图内的点即为噪点，以此过滤出租车数据，首先我们根据纽约市区的轮廓图对上车点进行过滤："
   ]
  },
  {
   "cell_type": "code",
   "execution_count": 6,
   "metadata": {},
   "outputs": [],
   "source": [
    "# 该步骤会比较耗时\n",
    "nyc_arctern_one = arctern.ST_Union_Aggr(nyc_arctern_4326)\n",
    "nyc_arctern_one = arctern.ST_SimplifyPreserveTopology(nyc_arctern_one,0.005)\n",
    "is_in_nyc = arctern.ST_Within(pickup_points,nyc_arctern_one[0])\n",
    "pickup_in_nyc = pickup_points[pd.Series(is_in_nyc)]"
   ]
  },
  {
   "cell_type": "markdown",
   "metadata": {},
   "source": [
    "绘制出数据过滤后的上车点："
   ]
  },
  {
   "cell_type": "code",
   "execution_count": 7,
   "metadata": {},
   "outputs": [
    {
     "name": "stdout",
     "output_type": "stream",
     "text": [
      "User Guide: https://docs.kepler.gl/docs/keplergl-jupyter\n"
     ]
    },
    {
     "data": {
      "application/vnd.jupyter.widget-view+json": {
       "model_id": "16001fdd460a447ea06565876da36743",
       "version_major": 2,
       "version_minor": 0
      },
      "text/plain": [
       "KeplerGl(data={'pickup_points':                        pickup_points\n",
       "0       POINT (-73.993003 40.747594)\n",
       "1   …"
      ]
     },
     "metadata": {},
     "output_type": "display_data"
    }
   ],
   "source": [
    "KeplerGl(data={\"pickup_points\": pd.DataFrame(data={'pickup_points':arctern.ST_AsText(pickup_in_nyc)})})"
   ]
  },
  {
   "cell_type": "markdown",
   "metadata": {},
   "source": [
    "根据同样的方法，对乘客的下车点进行过滤："
   ]
  },
  {
   "cell_type": "code",
   "execution_count": 8,
   "metadata": {},
   "outputs": [
    {
     "name": "stdout",
     "output_type": "stream",
     "text": [
      "User Guide: https://docs.kepler.gl/docs/keplergl-jupyter\n"
     ]
    },
    {
     "data": {
      "application/vnd.jupyter.widget-view+json": {
       "model_id": "3ae3fd80bfc0468eac7393b85eb13f1b",
       "version_major": 2,
       "version_minor": 0
      },
      "text/plain": [
       "KeplerGl(data={'drop_points':                          drop_points\n",
       "0       POINT (-73.983609 40.760426)\n",
       "1     …"
      ]
     },
     "metadata": {},
     "output_type": "display_data"
    }
   ],
   "source": [
    "# 该步骤会比较耗时\n",
    "dropoff_points = arctern.ST_Point(nyc_df.dropoff_longitude,nyc_df.dropoff_latitude)\n",
    "is_dorpoff_in_nyc = arctern.ST_Within(dropoff_points,nyc_arctern_one[0])\n",
    "dropoff_in_nyc=dropoff_points[is_dorpoff_in_nyc]\n",
    "KeplerGl(data={\"drop_points\": pd.DataFrame(data={'drop_points':arctern.ST_AsText(dropoff_in_nyc)})})"
   ]
  },
  {
   "cell_type": "markdown",
   "metadata": {},
   "source": [
    "根据上车点和下车点经纬度数据，在最初的数据上过滤所有的非法数据："
   ]
  },
  {
   "cell_type": "code",
   "execution_count": 9,
   "metadata": {},
   "outputs": [
    {
     "data": {
      "text/plain": [
       "count    192690.000000\n",
       "mean          9.733003\n",
       "std           7.079953\n",
       "min           2.500000\n",
       "25%           5.700000\n",
       "50%           7.700000\n",
       "75%          11.000000\n",
       "max         175.000000\n",
       "Name: fare_amount, dtype: float64"
      ]
     },
     "execution_count": 9,
     "metadata": {},
     "output_type": "execute_result"
    }
   ],
   "source": [
    "is_resonable = [is_dorpoff_in_nyc[idx] & is_in_nyc[idx] for idx in range(0,len(is_in_nyc)) ]\n",
    "in_nyc_df=nyc_df[pd.Series(is_resonable)]\n",
    "in_nyc_df.fare_amount.describe()"
   ]
  },
  {
   "cell_type": "markdown",
   "metadata": {},
   "source": [
    "我们按照交易额提取费用大于 50 美元的数据，并绘制出租车的上车点和下车点："
   ]
  },
  {
   "cell_type": "code",
   "execution_count": 10,
   "metadata": {},
   "outputs": [
    {
     "name": "stdout",
     "output_type": "stream",
     "text": [
      "User Guide: https://docs.kepler.gl/docs/keplergl-jupyter\n"
     ]
    },
    {
     "data": {
      "application/vnd.jupyter.widget-view+json": {
       "model_id": "8d21ffc37cf44d3eb5a64492e15d912d",
       "version_major": 2,
       "version_minor": 0
      },
      "text/plain": [
       "KeplerGl(data={'pickup':                            pickup\n",
       "0    POINT (-73.983795 40.737956)\n",
       "1    POINT (-73.7…"
      ]
     },
     "metadata": {},
     "output_type": "display_data"
    }
   ],
   "source": [
    "fare_amount_gt_50 = in_nyc_df[in_nyc_df.fare_amount > 50]\n",
    "pickup_50 = arctern.ST_Point(fare_amount_gt_50.pickup_longitude,fare_amount_gt_50.pickup_latitude)\n",
    "dropoff_50 = arctern.ST_Point(fare_amount_gt_50.dropoff_longitude,fare_amount_gt_50.dropoff_latitude)\n",
    "KeplerGl(data={\"pickup\": pd.DataFrame(data={'pickup':arctern.ST_AsText(pickup_50)}),\n",
    "               \"dropoff\":pd.DataFrame(data={'dropoff':arctern.ST_AsText(dropoff_50)})\n",
    "              })"
   ]
  },
  {
   "cell_type": "markdown",
   "metadata": {},
   "source": [
    "我们还可以计算上车点和下车点的直线距离："
   ]
  },
  {
   "cell_type": "code",
   "execution_count": 11,
   "metadata": {},
   "outputs": [
    {
     "data": {
      "text/plain": [
       "count    192690.000000\n",
       "mean       3134.342665\n",
       "std        3287.665504\n",
       "min           0.000000\n",
       "25%        1224.352451\n",
       "50%        2086.809469\n",
       "75%        3744.095273\n",
       "max       35395.487197\n",
       "dtype: float64"
      ]
     },
     "execution_count": 11,
     "metadata": {},
     "output_type": "execute_result"
    }
   ],
   "source": [
    "nyc_distance=arctern.ST_DistanceSphere(arctern.ST_Point(in_nyc_df.pickup_longitude,\n",
    "                                                        in_nyc_df.pickup_latitude),\n",
    "                                       arctern.ST_Point(in_nyc_df.dropoff_longitude,\n",
    "                                                        in_nyc_df.dropoff_latitude))\n",
    "nyc_distance.index=in_nyc_df.index\n",
    "nyc_distance.describe()"
   ]
  },
  {
   "cell_type": "markdown",
   "metadata": {},
   "source": [
    "获得直线距离大于 20 公里的点，并绘制所有直线距离大于 20 公里的上车点和下车点："
   ]
  },
  {
   "cell_type": "code",
   "execution_count": 12,
   "metadata": {},
   "outputs": [
    {
     "name": "stdout",
     "output_type": "stream",
     "text": [
      "User Guide: https://docs.kepler.gl/docs/keplergl-jupyter\n"
     ]
    },
    {
     "data": {
      "application/vnd.jupyter.widget-view+json": {
       "model_id": "bece22f256d748f2bcc4b6cfb7229e16",
       "version_major": 2,
       "version_minor": 0
      },
      "text/plain": [
       "KeplerGl(data={'pickup':                             pickup\n",
       "0     POINT (-73.781487 40.644855)\n",
       "1     POINT (-7…"
      ]
     },
     "metadata": {},
     "output_type": "display_data"
    }
   ],
   "source": [
    "nyc_with_distance=pd.DataFrame({\"pickup_longitude\":in_nyc_df.pickup_longitude,\n",
    "                                \"pickup_latitude\":in_nyc_df.pickup_latitude,\n",
    "                                \"dropoff_longitude\":in_nyc_df.dropoff_longitude,\n",
    "                                \"dropoff_latitude\":in_nyc_df.dropoff_latitude,\n",
    "                                \"sphere_distance\":nyc_distance\n",
    "                               })\n",
    "\n",
    "nyc_dist_gt = nyc_with_distance[nyc_with_distance.sphere_distance > 20e3]\n",
    "pickup_gt = arctern.ST_Point(nyc_dist_gt.pickup_longitude,nyc_dist_gt.pickup_latitude)\n",
    "dropoff_gt = arctern.ST_Point(nyc_dist_gt.dropoff_longitude,nyc_dist_gt.dropoff_latitude)\n",
    "\n",
    "KeplerGl(data={\"pickup\": pd.DataFrame(data={'pickup':arctern.ST_AsText(pickup_gt)}),\n",
    "               \"dropoff\":pd.DataFrame(data={'dropoff':arctern.ST_AsText(dropoff_gt)})\n",
    "              })"
   ]
  }
 ],
 "metadata": {
  "kernelspec": {
   "display_name": "Python 3",
   "language": "python",
   "name": "python3"
  },
  "language_info": {
   "codemirror_mode": {
    "name": "ipython",
    "version": 3
   },
   "file_extension": ".py",
   "mimetype": "text/x-python",
   "name": "python",
   "nbconvert_exporter": "python",
   "pygments_lexer": "ipython3",
   "version": "3.7.6"
  }
 },
 "nbformat": 4,
 "nbformat_minor": 4
}
